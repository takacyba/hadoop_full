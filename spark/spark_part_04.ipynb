{
 "cells": [
  {
   "cell_type": "markdown",
   "id": "88b39256",
   "metadata": {
    "pycharm": {
     "name": "#%% md\n"
    }
   },
   "source": [
    "## Что такое Стриминг?\n",
    "\n",
    "  \n",
    "![Kafka](https://wiki.databurst.tech/docs/roadmap/distributed-systems-concepts/batch-and-stream-processing/batch-vs-streaming.png)\n"
   ]
  },
  {
   "cell_type": "markdown",
   "id": "cea2425b-ac93-4844-9c6d-f3eaf26e73cc",
   "metadata": {
    "pycharm": {
     "name": "#%% md\n"
    }
   },
   "source": [
    "\n",
    "## Что такое Apache Kafka?\n",
    "Apache Kafka — это распределённая система передачи сообщений (message broker), предназначенная для обработки и хранения потоковых данных.\n",
    "\n",
    "- **Брокеры** — сервера, управляющие топиками и партициями\n",
    "- **Топики** — логические каналы передачи данных\n",
    "- **Партиции** — деление топика для масштабирования и параллелизма\n",
    "- **Продюсеры** — публикуют данные\n",
    "- **Консьюмеры** — читают данные\n",
    "  \n",
    "![Kafka](https://nuancesprog.ru/wp-content/uploads/2025/03/1QDHuTomu3e-A4I8WAKAO7Q.png)\n",
    "\n",
    "\n"
   ]
  },
  {
   "cell_type": "code",
   "execution_count": null,
   "id": "950a2040",
   "metadata": {
    "collapsed": false,
    "jupyter": {
     "outputs_hidden": false
    },
    "pycharm": {
     "name": "#%%\n"
    }
   },
   "outputs": [],
   "source": [
    "!pip install kafka-python "
   ]
  },
  {
   "cell_type": "code",
   "execution_count": null,
   "id": "c1d74639",
   "metadata": {
    "collapsed": false,
    "jupyter": {
     "outputs_hidden": false
    },
    "pycharm": {
     "name": "#%%\n"
    }
   },
   "outputs": [],
   "source": [
    "\n",
    "from kafka import KafkaProducer\n",
    "import time\n",
    "\n",
    "producer = KafkaProducer(bootstrap_servers='localhost:9092')\n",
    "for i in range(5):\n",
    "    msg = f\"Hello {i}\"\n",
    "    producer.send('demo-topic', msg.encode())\n",
    "    print(\"Sent:\", msg)\n",
    "    time.sleep(1)\n",
    "\n",
    "\n"
   ]
  },
  {
   "cell_type": "code",
   "execution_count": null,
   "id": "dc54dc7f-aca2-4f6e-8785-173e1eaa6fb1",
   "metadata": {},
   "outputs": [],
   "source": [
    "from kafka import KafkaConsumer\n",
    "\n",
    "consumer = KafkaConsumer('demo-topic', bootstrap_servers='localhost:9092', auto_offset_reset='earliest', consumer_timeout_ms=1000)\n",
    "for message in consumer:\n",
    "    print(\"Received:\", message.value.decode())"
   ]
  },
  {
   "cell_type": "markdown",
   "id": "2d09864f",
   "metadata": {
    "collapsed": false,
    "jupyter": {
     "outputs_hidden": false
    },
    "pycharm": {
     "name": "#%% md\n"
    }
   },
   "source": [
    "## Spark Structured Streaming: потоковая обработка данных из Kafka\n",
    "- Используем Spark для чтения и обработки потоковых данных из Kafka.\n",
    "- Основная идея: читать как DataFrame, применять SQL-подобные операции, записывать результаты."
   ]
  },
  {
   "cell_type": "code",
   "execution_count": null,
   "id": "7bef6108",
   "metadata": {
    "collapsed": false,
    "jupyter": {
     "outputs_hidden": false
    },
    "pycharm": {
     "name": "#%%\n"
    }
   },
   "outputs": [],
   "source": [
    "from pyspark.sql import SparkSession\n",
    "spark = SparkSession.builder \\\n",
    "    .appName(\"StreamingApp\") \\\n",
    "    .config(\"spark.jars.packages\", \"org.apache.spark:spark-sql-kafka-0-10_2.12:3.5.5\") \\\n",
    "    .getOrCreate()"
   ]
  },
  {
   "cell_type": "code",
   "execution_count": null,
   "id": "e8bea9db",
   "metadata": {
    "collapsed": false,
    "jupyter": {
     "outputs_hidden": false
    },
    "pycharm": {
     "name": "#%%\n"
    }
   },
   "outputs": [],
   "source": [
    "\n",
    "# Чтение потока из Kafka\n",
    "kafka_df = spark.readStream \\\n",
    "    .format(\"kafka\") \\\n",
    "    .option(\"kafka.bootstrap.servers\", \"localhost:9092\") \\\n",
    "    .option(\"subscribe\", \"enriched-titanic\") \\\n",
    "    .option(\"startingOffsets\", \"earliest\") \\\n",
    "    .load()\n",
    "\n",
    "parsed_df = kafka_df.selectExpr(\"CAST(key AS STRING)\", \"CAST(value AS STRING)\")\n",
    "\n",
    "query = parsed_df.writeStream \\\n",
    "    .outputMode(\"append\") \\\n",
    "    .format(\"console\") \\\n",
    "    .start()\n",
    "\n",
    "query.awaitTermination()\n"
   ]
  },
  {
   "cell_type": "markdown",
   "id": "007e0bc7",
   "metadata": {
    "pycharm": {
     "name": "#%% md\n"
    }
   },
   "source": [
    "## Запись данных из Spark Structured Streaming обратно в Kafka"
   ]
  },
  {
   "cell_type": "code",
   "execution_count": null,
   "id": "a57ad12c",
   "metadata": {
    "pycharm": {
     "name": "#%%\n"
    }
   },
   "outputs": [],
   "source": [
    "\n",
    "kafka_df = spark.readStream \\\n",
    "    .format(\"kafka\") \\\n",
    "    .option(\"kafka.bootstrap.servers\", \"localhost:9092\") \\\n",
    "    .option(\"subscribe\", \"demo-topic\") \\\n",
    "    .option(\"startingOffsets\", \"earliest\") \\\n",
    "    .load()\n",
    "\n",
    "parsed_df = kafka_df.selectExpr(\"CAST(key AS STRING)\", \"CAST(value AS STRING)\")\n",
    "\n",
    "from pyspark.sql.functions import concat, lit, col\n",
    "\n",
    "transformed_df = parsed_df.withColumn(\n",
    "    \"value\",\n",
    "    concat(lit(\"[processed] \"), col(\"value\"))\n",
    ")\n",
    "\n",
    "final_df = transformed_df.select(\n",
    "    col(\"key\").cast(\"binary\"),\n",
    "    col(\"value\").cast(\"binary\")\n",
    ")\n",
    "\n",
    "query = final_df.writeStream \\\n",
    "    .format(\"kafka\") \\\n",
    "    .option(\"kafka.bootstrap.servers\", \"localhost:9092\") \\\n",
    "    .option(\"topic\", \"demo-topic-2\") \\\n",
    "    .option(\"checkpointLocation\", \"/tmp/checkpoints/processed\") \\\n",
    "    .outputMode(\"append\") \\\n",
    "    .start()\n",
    "\n",
    "query.awaitTermination()\n",
    "\n"
   ]
  },
  {
   "cell_type": "markdown",
   "id": "b355b1b7",
   "metadata": {
    "pycharm": {
     "name": "#%% md\n"
    }
   },
   "source": [
    "## Соединение потоковых и статичных данных в Spark\n"
   ]
  },
  {
   "cell_type": "code",
   "execution_count": null,
   "id": "ab92e2de-1f51-4537-a777-f6b30f683bb5",
   "metadata": {},
   "outputs": [],
   "source": [
    "from pyspark.sql import SparkSession\n",
    "from pyspark.sql.functions import col, lit, when, to_json, struct, from_json\n",
    "\n",
    "spark = SparkSession.builder \\\n",
    "    .appName(\"TitanicKafkaStreaming\") \\\n",
    "    .config(\"spark.jars.packages\", \"org.apache.spark:spark-sql-kafka-0-10_2.12:3.5.0\") \\\n",
    "    .getOrCreate()\n",
    "\n",
    "\n",
    "titanic_df = spark.read.csv(\"titanic.csv\", header=True, inferSchema=True)\n",
    "\n",
    "titanic_to_kafka = titanic_df.selectExpr(\n",
    "    \"CAST(PassengerId AS STRING) AS key\",\n",
    "    \"to_json(struct(*)) AS value\"\n",
    ")\n",
    "\n",
    "titanic_to_kafka.write \\\n",
    "    .format(\"kafka\") \\\n",
    "    .option(\"kafka.bootstrap.servers\", \"localhost:9092\") \\\n",
    "    .option(\"topic\", \"raw-titanic\") \\\n",
    "    .save()\n",
    "\n",
    "print(\"Данные загружены в топик raw-titanic\")\n",
    "\n",
    "\n"
   ]
  },
  {
   "cell_type": "code",
   "execution_count": null,
   "id": "2a6a4a42-7225-479b-99e6-3ad15a4f35e0",
   "metadata": {},
   "outputs": [],
   "source": [
    "schema = titanic_df.schema\n",
    "\n",
    "raw_stream = spark.readStream \\\n",
    "    .format(\"kafka\") \\\n",
    "    .option(\"kafka.bootstrap.servers\", \"localhost:9092\") \\\n",
    "    .option(\"subscribe\", \"raw-titanic\") \\\n",
    "    .option(\"startingOffsets\", \"earliest\") \\\n",
    "    .load()\n",
    "\n",
    "parsed_stream = raw_stream.selectExpr(\"CAST(value AS STRING) as json_str\") \\\n",
    "    .withColumn(\"data\", from_json(col(\"json_str\"), schema)) \\\n",
    "    .select(\"data.*\")\n",
    "\n",
    "\n",
    "static_df = spark.createDataFrame([\n",
    "    (1, \"First Class\"),\n",
    "    (2, \"Second Class\"),\n",
    "    (3, \"Third Class\")\n",
    "], [\"Pclass\", \"ClassName\"])\n",
    "\n",
    "\n",
    "enriched_df = parsed_stream \\\n",
    "    .withColumn(\"is_adult\", when(col(\"Age\") >= 18, lit(\"yes\")).otherwise(lit(\"no\"))) \\\n",
    "    .join(static_df, on=\"Pclass\", how=\"left\")\n",
    "\n",
    "pretty_df = enriched_df.select(\n",
    "    \"PassengerId\", \"Name\", \"Age\", \"Pclass\", \"ClassName\", \"is_adult\", \"Survived\"\n",
    ")\n",
    "\n",
    "\n",
    "df_to_kafka = enriched_df \\\n",
    "    .withColumn(\"key\", col(\"PassengerId\").cast(\"string\")) \\\n",
    "    .withColumn(\"value\", to_json(struct([col(c) for c in enriched_df.columns])))\n",
    "\n",
    "\n",
    "query_kafka = df_to_kafka.select(\"key\", \"value\").writeStream \\\n",
    "    .format(\"kafka\") \\\n",
    "    .option(\"kafka.bootstrap.servers\", \"localhost:9092\") \\\n",
    "    .option(\"topic\", \"enriched-titanic\") \\\n",
    "    .option(\"checkpointLocation\", \"/tmp/checkpoints/titanic-kafka\") \\\n",
    "    .outputMode(\"append\") \\\n",
    "    .start()\n",
    "\n",
    "query_console = pretty_df.writeStream \\\n",
    "    .format(\"console\") \\\n",
    "    .option(\"truncate\", False) \\\n",
    "    .outputMode(\"append\") \\\n",
    "    .start()\n",
    "\n",
    "query_kafka.awaitTermination()\n",
    "query_console.awaitTermination()"
   ]
  },
  {
   "cell_type": "markdown",
   "id": "3418f0bf",
   "metadata": {
    "pycharm": {
     "name": "#%% md\n"
    }
   },
   "source": [
    "## Мониторинг и отладка потоковых приложений\n",
    "- Spark UI (http://localhost:4040) для мониторинга задач.\n",
    "- Checkpointing для восстановления состояния и обеспечения отказоустойчивости."
   ]
  },
  {
   "cell_type": "markdown",
   "id": "26e9947d-bdb7-4f1b-b3b4-b5b360c16d6d",
   "metadata": {},
   "source": [
    "## Оконные функции"
   ]
  },
  {
   "cell_type": "code",
   "execution_count": null,
   "id": "3f4b9d13-4169-42bb-adee-0683cf5fcddf",
   "metadata": {},
   "outputs": [],
   "source": [
    "from pyspark.sql import SparkSession\n",
    "from pyspark.sql.functions import expr, to_json, struct, col\n",
    "\n",
    "spark = SparkSession.builder \\\n",
    "    .appName(\"TitanicToKafkaWithEventTime\") \\\n",
    "    .config(\"spark.jars.packages\", \"org.apache.spark:spark-sql-kafka-0-10_2.12:3.5.0\") \\\n",
    "    .getOrCreate()\n",
    "\n",
    "\n",
    "titanic_df = spark.read.csv(\"titanic.csv\", header=True, inferSchema=True)\n",
    "\n",
    "\n",
    "titanic_with_time = titanic_df.withColumn(\n",
    "    \"event_time\",\n",
    "    expr(\"current_timestamp() + interval 5 seconds * PassengerId\")\n",
    ")\n",
    "\n",
    "titanic_with_time.selectExpr(\n",
    "    \"CAST(PassengerId AS STRING) AS key\",\n",
    "    \"to_json(struct(*)) AS value\"\n",
    ").write \\\n",
    " .format(\"kafka\") \\\n",
    " .option(\"kafka.bootstrap.servers\", \"localhost:9092\") \\\n",
    " .option(\"topic\", \"raw-titanic\") \\\n",
    " .save()\n",
    "\n",
    "print(\"Данные записаны в Kafka с event_time\")\n"
   ]
  },
  {
   "cell_type": "code",
   "execution_count": null,
   "id": "10fef230-78aa-4670-af6c-447c19726af0",
   "metadata": {},
   "outputs": [],
   "source": [
    "\n",
    "\n",
    "from pyspark.sql.functions import from_json\n",
    "from pyspark.sql.types import *\n",
    "from pyspark.sql.functions import window\n",
    "\n",
    "schema = titanic_with_time.schema\n",
    "\n",
    "raw_stream = spark.readStream \\\n",
    "    .format(\"kafka\") \\\n",
    "    .option(\"kafka.bootstrap.servers\", \"localhost:9092\") \\\n",
    "    .option(\"subscribe\", \"raw-titanic\") \\\n",
    "    .option(\"startingOffsets\", \"earliest\") \\\n",
    "    .load()\n",
    "\n",
    "parsed_stream = raw_stream.selectExpr(\"CAST(value AS STRING) as json_str\") \\\n",
    "    .withColumn(\"data\", from_json(col(\"json_str\"), schema)) \\\n",
    "    .select(\"data.*\")\n",
    "\n",
    "\n",
    "\n",
    "windowed_counts = parsed_stream \\\n",
    "    .groupBy(\n",
    "        window(col(\"event_time\"), \"1 minute\")\n",
    "    ).count() \\\n",
    "    .orderBy(\"window\")\n",
    "\n",
    "query = windowed_counts.writeStream \\\n",
    "    .format(\"console\") \\\n",
    "    .outputMode(\"complete\") \\\n",
    "    .option(\"truncate\", False) \\\n",
    "    .start()\n",
    "\n",
    "query.awaitTermination()"
   ]
  },
  {
   "cell_type": "markdown",
   "id": "63870704-e3e6-46e6-ac0c-fbebe281c102",
   "metadata": {},
   "source": [
    "## Визуализация"
   ]
  },
  {
   "cell_type": "code",
   "execution_count": null,
   "id": "d91079cf-febc-41d9-80fe-cd403c1656a3",
   "metadata": {},
   "outputs": [],
   "source": [
    "!pip install matplotlib"
   ]
  },
  {
   "cell_type": "code",
   "execution_count": null,
   "id": "dba09326-1a53-438d-8859-c6ae6cf06b50",
   "metadata": {},
   "outputs": [],
   "source": [
    "import matplotlib.pyplot as plt\n",
    "from pyspark.sql import SparkSession\n",
    "from pyspark.sql.functions import col, when, from_json\n",
    "import time\n",
    "\n",
    "\n",
    "spark = SparkSession.builder \\\n",
    "    .appName(\"TitanicStreamingBatchSave\") \\\n",
    "    .config(\"spark.jars.packages\", \"org.apache.spark:spark-sql-kafka-0-10_2.12:3.5.0\") \\\n",
    "    .getOrCreate()\n",
    "\n",
    "\n",
    "schema = spark.read.csv(\"titanic.csv\", header=True, inferSchema=True).schema\n",
    "\n",
    "\n",
    "raw_stream = spark.readStream \\\n",
    "    .format(\"kafka\") \\\n",
    "    .option(\"kafka.bootstrap.servers\", \"localhost:9092\") \\\n",
    "    .option(\"subscribe\", \"raw-titanic\") \\\n",
    "    .option(\"startingOffsets\", \"earliest\") \\\n",
    "    .load()\n",
    "\n",
    "\n",
    "parsed_stream = raw_stream.selectExpr(\"CAST(value AS STRING) as json_str\") \\\n",
    "    .withColumn(\"data\", from_json(col(\"json_str\"), schema)) \\\n",
    "    .select(\"data.*\")\n",
    "\n",
    "\n",
    "enriched_stream = parsed_stream.withColumn(\"is_adult\", when(col(\"Age\") >= 18, \"yes\").otherwise(\"no\"))\n",
    "\n",
    "\n",
    "agg_stream = enriched_stream.groupBy(\"is_adult\").count()\n",
    "\n",
    "\n",
    "query = agg_stream.writeStream \\\n",
    "    .format(\"memory\") \\\n",
    "    .queryName(\"agg_table\") \\\n",
    "    .outputMode(\"complete\") \\\n",
    "    .start()\n",
    "\n",
    "\n",
    "query.awaitTermination(10)\n",
    "\n",
    "\n",
    "query.stop()\n",
    "\n",
    "\n",
    "result_df = spark.sql(\"SELECT * FROM agg_table\")\n",
    "\n",
    "\n",
    "pdf = result_df.toPandas()\n",
    "\n",
    "\n",
    "plt.bar(pdf['is_adult'], pdf['count'])\n",
    "plt.xlabel('is_adult')\n",
    "plt.ylabel('Count')\n",
    "plt.title('Количество взрослых и не взрослых пассажиров Titanic (batch из стрима)')\n",
    "for i, v in enumerate(pdf['count']):\n",
    "    plt.text(i, v + 1, str(v), ha='center')\n",
    "plt.show()\n",
    "\n",
    "\n"
   ]
  }
 ],
 "metadata": {
  "kernelspec": {
   "display_name": "Python 3 (ipykernel)",
   "language": "python",
   "name": "python3"
  },
  "language_info": {
   "codemirror_mode": {
    "name": "ipython",
    "version": 3
   },
   "file_extension": ".py",
   "mimetype": "text/x-python",
   "name": "python",
   "nbconvert_exporter": "python",
   "pygments_lexer": "ipython3",
   "version": "3.12.3"
  }
 },
 "nbformat": 4,
 "nbformat_minor": 5
}
