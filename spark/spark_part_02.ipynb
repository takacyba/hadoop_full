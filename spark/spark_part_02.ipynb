{
 "cells": [
  {
   "cell_type": "markdown",
   "id": "041edd75-8772-4826-9a84-465af4e5461b",
   "metadata": {
    "pycharm": {
     "name": "#%% md\n"
    }
   },
   "source": [
    "# Apache Spark SQL + DataFrames"
   ]
  },
  {
   "cell_type": "markdown",
   "id": "9d63985a-9950-4c22-9815-9d95406f0920",
   "metadata": {
    "pycharm": {
     "name": "#%% md\n"
    }
   },
   "source": [
    "## Модель вычислений"
   ]
  },
  {
   "cell_type": "markdown",
   "id": "2e64326d-b25f-4a00-83a9-52b80a3846e0",
   "metadata": {
    "jp-MarkdownHeadingCollapsed": true,
    "pycharm": {
     "name": "#%% md\n"
    }
   },
   "source": [
    "### DAG"
   ]
  },
  {
   "cell_type": "markdown",
   "id": "d2016c64-f24e-4a70-8d57-386f2b14ce72",
   "metadata": {
    "pycharm": {
     "name": "#%% md\n"
    }
   },
   "source": [
    "### Master-slave принцип работы"
   ]
  },
  {
   "cell_type": "markdown",
   "id": "d389d7ed-7898-4eb3-bd17-633d0307295f",
   "metadata": {
    "pycharm": {
     "name": "#%% md\n"
    }
   },
   "source": [
    "- Master - Driver:\n",
    "    + запускается отдельно, запрашивает ресурсы у менеджера,\n",
    "    + создает SparkContext/SparkSession,\n",
    "    + распределяет задания между exectutor-ами,\n",
    "    + планирует и отслеживает прогрусс выполняемых стадий.\n",
    "- Slaves - Executors:\n",
    "    + запущены для отказоустойчивости на разных узлах (если возможно,\n",
    "    + выполняют основную работу по вычислениям."
   ]
  },
  {
   "cell_type": "markdown",
   "id": "659a774f-8245-4a39-90e2-9d526f2133b8",
   "metadata": {
    "pycharm": {
     "name": "#%% md\n"
    }
   },
   "source": [
    "## Spark SQL"
   ]
  },
  {
   "cell_type": "markdown",
   "id": "a61113fd-6078-46f4-a713-e1b55956e2e1",
   "metadata": {
    "pycharm": {
     "name": "#%% md\n"
    }
   },
   "source": [
    "Позволяет обрабатывать структурированные и полуструктурированные данные.  \n",
    "**Интерфейсы.**\n",
    "- DataFrame:\n",
    "  + абстракция поверх RDD,\n",
    "  + имеет схему данных - \n",
    "    - имена полей,\n",
    "    - типы полей,\n",
    "  + включает оптимизатор вычислений,\n",
    "  + поддерживает SQL-like запросы,\n",
    "  + поддерживает интеграции со множеством БД.\n",
    "- Dataset:\n",
    "  + Как DF, только со строгой типизацией,\n",
    "  + Не поддерживает Python (и никогда не будет)."
   ]
  },
  {
   "cell_type": "markdown",
   "id": "df6e8574-9797-4d4f-bb2b-3bea70a94932",
   "metadata": {
    "pycharm": {
     "name": "#%% md\n"
    }
   },
   "source": [
    "## Давайте приступим!"
   ]
  },
  {
   "cell_type": "code",
   "execution_count": null,
   "id": "4b07a5b9-5ec0-4f5e-a2b9-a5af877bbe36",
   "metadata": {
    "pycharm": {
     "name": "#%%\n"
    }
   },
   "outputs": [],
   "source": [
    "!pip install pyarrow"
   ]
  },
  {
   "cell_type": "code",
   "execution_count": null,
   "id": "e5ce0953",
   "metadata": {
    "pycharm": {
     "name": "#%%\n"
    }
   },
   "outputs": [],
   "source": [
    "import os\n",
    "JAVA_HOME = \"/usr/lib/jvm/java-11-openjdk-amd64\"\n",
    "os.environ[\"JAVA_HOME\"]= JAVA_HOME"
   ]
  },
  {
   "cell_type": "code",
   "execution_count": null,
   "id": "a427d0b5",
   "metadata": {
    "pycharm": {
     "name": "#%%\n"
    }
   },
   "outputs": [],
   "source": [
    "from pyspark.sql import SparkSession"
   ]
  },
  {
   "cell_type": "code",
   "execution_count": null,
   "id": "dccdc11d",
   "metadata": {
    "pycharm": {
     "name": "#%%\n"
    }
   },
   "outputs": [],
   "source": [
    "spark = SparkSession.builder \\\n",
    "    .appName(\"my_spark\") \\\n",
    "    .master(\"local[*]\") \\\n",
    "    .getOrCreate()"
   ]
  },
  {
   "cell_type": "code",
   "execution_count": null,
   "id": "627f45c7",
   "metadata": {
    "pycharm": {
     "name": "#%%\n"
    }
   },
   "outputs": [],
   "source": [
    "spark"
   ]
  },
  {
   "cell_type": "markdown",
   "id": "68bdb165-f85c-4ca4-8ccd-2ec946100a9f",
   "metadata": {
    "pycharm": {
     "name": "#%% md\n"
    }
   },
   "source": [
    "## Базовый SQL\n",
    "+ схема [pyspsark.sql.StructType](https://spark.apache.org/docs/latest/api/python/reference/pyspark.sql/api/pyspark.sql.types.StructType.html)\n",
    "+ колонки [pyspark.sql.Column](https://spark.apache.org/docs/latest/api/python/reference/pyspark.sql/api/pyspark.sql.Column.html)\n",
    "+ данные [pyspark.sql.Row](https://spark.apache.org/docs/latest/api/python/reference/pyspark.sql/api/pyspark.sql.Row.html)"
   ]
  },
  {
   "cell_type": "markdown",
   "id": "e94814d7-5c04-47ff-ac41-aa2df0548f78",
   "metadata": {
    "pycharm": {
     "name": "#%% md\n"
    }
   },
   "source": [
    "## Работа с чтением данных\n",
    "\n",
    "В нашем примере будем использовать датасет MovieLens, который содержит информацию о фильмах. Файл `movies.csv` должен располагаться в каталоге (например, \"movielens/\"). Мы используем метод `spark.read.csv` для чтения данных, указывая, что в файле присутствует заголовок и типы данных могут быть автоматически определены."
   ]
  },
  {
   "cell_type": "markdown",
   "id": "2f3b376c-d23f-47d7-96d3-70f13f24d9f3",
   "metadata": {
    "pycharm": {
     "name": "#%% md\n"
    }
   },
   "source": [
    "### Как создать DataFrame?"
   ]
  },
  {
   "cell_type": "markdown",
   "id": "8d71fa3c-c06c-4956-9a8d-42f8a7aa23d8",
   "metadata": {
    "pycharm": {
     "name": "#%% md\n"
    }
   },
   "source": [
    "### Прочитать данные из файла!"
   ]
  },
  {
   "cell_type": "code",
   "execution_count": null,
   "id": "a44a02ba-3461-458e-8635-07cd6fcfb78d",
   "metadata": {
    "pycharm": {
     "name": "#%%\n"
    },
    "scrolled": true
   },
   "outputs": [],
   "source": [
    "help(spark.read)"
   ]
  },
  {
   "cell_type": "code",
   "execution_count": null,
   "id": "f5b5b72f-94e7-45e7-a978-11e1fb78aebd",
   "metadata": {
    "pycharm": {
     "name": "#%%\n"
    }
   },
   "outputs": [],
   "source": [
    "!curl -fSL https://files.grouplens.org/datasets/movielens/ml-latest.zip -o ml-latest.zip"
   ]
  },
  {
   "cell_type": "code",
   "execution_count": null,
   "id": "2e8f7454-e6d6-43fc-b897-42bcfc281f09",
   "metadata": {
    "pycharm": {
     "name": "#%%\n"
    }
   },
   "outputs": [],
   "source": [
    "!unzip ml-latest.zip"
   ]
  },
  {
   "cell_type": "code",
   "execution_count": null,
   "id": "a63b326c-b92a-412a-9767-5f5142c59ddb",
   "metadata": {
    "pycharm": {
     "name": "#%%\n"
    }
   },
   "outputs": [],
   "source": [
    "!mv ml-latest movielens"
   ]
  },
  {
   "cell_type": "markdown",
   "id": "f9267eab-e541-4f0a-8dd9-372a07628824",
   "metadata": {
    "pycharm": {
     "name": "#%% md\n"
    }
   },
   "source": [
    "### Конвейер чтения данных\n",
    "```python\n",
    "spark.read\\\n",
    "     .format(...)\\\n",
    "     .option(key, value)\\\n",
    "     .option(key, value)\\\n",
    "     .load(path)\n",
    "```"
   ]
  },
  {
   "cell_type": "code",
   "execution_count": null,
   "id": "91b64374-fd37-4870-951e-7edd27323387",
   "metadata": {
    "pycharm": {
     "name": "#%%\n"
    }
   },
   "outputs": [],
   "source": [
    "%%time\n",
    "movies_df = spark.read\\\n",
    "          .format(\"csv\")\\\n",
    "          .option(\"sep\", \",\")\\\n",
    "          .load(\"movielens/movies.csv\")"
   ]
  },
  {
   "cell_type": "code",
   "execution_count": null,
   "id": "df02265e-4358-47b1-984b-c6ae205bc73d",
   "metadata": {
    "pycharm": {
     "name": "#%%\n"
    }
   },
   "outputs": [],
   "source": [
    "movies_df"
   ]
  },
  {
   "cell_type": "code",
   "execution_count": null,
   "id": "1cd0a67b-12a3-4265-a681-2618c9d817b7",
   "metadata": {
    "pycharm": {
     "name": "#%%\n"
    }
   },
   "outputs": [],
   "source": [
    "movies_df.show(10)"
   ]
  },
  {
   "cell_type": "code",
   "execution_count": null,
   "id": "2516cd14-925c-4958-be61-3baed3b2e96c",
   "metadata": {
    "pycharm": {
     "name": "#%%\n"
    }
   },
   "outputs": [],
   "source": [
    "movies_df.printSchema()"
   ]
  },
  {
   "cell_type": "markdown",
   "id": "304ff529-2f2f-4954-9826-2c273db21319",
   "metadata": {
    "pycharm": {
     "name": "#%% md\n"
    }
   },
   "source": [
    "### Схема!"
   ]
  },
  {
   "cell_type": "code",
   "execution_count": null,
   "id": "7f19ddba-285f-439c-b247-917a69ddcc3e",
   "metadata": {
    "pycharm": {
     "name": "#%%\n"
    }
   },
   "outputs": [],
   "source": [
    "from pyspark.sql.types import *"
   ]
  },
  {
   "cell_type": "code",
   "execution_count": null,
   "id": "fd98cc49-a5b0-4c65-b2a0-e063e3478b7e",
   "metadata": {
    "pycharm": {
     "name": "#%%\n"
    }
   },
   "outputs": [],
   "source": [
    "schema = StructType(fields=[\n",
    "    StructField(\"movieId\", IntegerType()),\n",
    "    StructField(\"title\", StringType()),\n",
    "    StructField(\"genres\", StringType())\n",
    "])"
   ]
  },
  {
   "cell_type": "code",
   "execution_count": null,
   "id": "5cf2a5d5-a037-4ed1-82cc-a6d756171efd",
   "metadata": {
    "pycharm": {
     "name": "#%%\n"
    }
   },
   "outputs": [],
   "source": [
    "movies_df = spark.read\\\n",
    "          .schema(schema)\\\n",
    "          .format(\"csv\")\\\n",
    "          .option(\"sep\", \",\")\\\n",
    "          .option(\"header\", \"True\")\\\n",
    "          .load(\"movielens/movies.csv\")"
   ]
  },
  {
   "cell_type": "code",
   "execution_count": null,
   "id": "79bdc8a8-b2de-4245-902b-6f1e868e6c5f",
   "metadata": {
    "pycharm": {
     "name": "#%%\n"
    }
   },
   "outputs": [],
   "source": [
    "movies_df.printSchema()"
   ]
  },
  {
   "cell_type": "code",
   "execution_count": null,
   "id": "53b5799c-c914-4ada-a054-6b8809f7056e",
   "metadata": {
    "pycharm": {
     "name": "#%%\n"
    }
   },
   "outputs": [],
   "source": [
    "movies_df.show(1)"
   ]
  },
  {
   "cell_type": "markdown",
   "id": "e3b65c77-9a56-409a-bc4b-f6d700ca13ae",
   "metadata": {
    "pycharm": {
     "name": "#%% md\n"
    }
   },
   "source": [
    "### Схему также можно задавать в виде SQL DDL"
   ]
  },
  {
   "cell_type": "code",
   "execution_count": null,
   "id": "2726d4d9-2632-4aac-bb41-e4168ef71222",
   "metadata": {
    "pycharm": {
     "name": "#%%\n"
    }
   },
   "outputs": [],
   "source": [
    "ddl_schema = \"\"\"\n",
    "    movieId INT,\n",
    "    title STRING,\n",
    "    genres STRING\n",
    "\"\"\""
   ]
  },
  {
   "cell_type": "code",
   "execution_count": null,
   "id": "c1d165b1-6378-4e10-a025-793989663690",
   "metadata": {
    "pycharm": {
     "name": "#%%\n"
    }
   },
   "outputs": [],
   "source": [
    "movies_df = spark.read\\\n",
    "          .schema(ddl_schema)\\\n",
    "          .format(\"csv\")\\\n",
    "          .option(\"sep\", \",\")\\\n",
    "          .load(\"movielens/movies.csv\")"
   ]
  },
  {
   "cell_type": "code",
   "execution_count": null,
   "id": "d5627af8-ddc8-4f72-a19b-b656be62fc9a",
   "metadata": {
    "pycharm": {
     "name": "#%%\n"
    },
    "scrolled": true
   },
   "outputs": [],
   "source": [
    "movies_df.printSchema()"
   ]
  },
  {
   "cell_type": "code",
   "execution_count": null,
   "id": "eb5e5575-16f7-4cd4-9cde-01599dba48c8",
   "metadata": {
    "pycharm": {
     "name": "#%%\n"
    }
   },
   "outputs": [],
   "source": [
    "movies_df.show(10)"
   ]
  },
  {
   "cell_type": "markdown",
   "id": "a356be49-e4f8-43e8-ab5c-d3fe580c8f9f",
   "metadata": {
    "pycharm": {
     "name": "#%% md\n"
    }
   },
   "source": [
    "### Наличие схемы оборачивается еще одним приятным бонусом - правильно работает описательная статистика."
   ]
  },
  {
   "cell_type": "code",
   "execution_count": null,
   "id": "213f5598-964a-4671-b7d4-c96f6e45579f",
   "metadata": {
    "pycharm": {
     "name": "#%%\n"
    },
    "scrolled": true
   },
   "outputs": [],
   "source": [
    "movies_df.summary().show()"
   ]
  },
  {
   "cell_type": "markdown",
   "id": "bc3af79a-cc04-45a9-bc27-880748268ccf",
   "metadata": {
    "pycharm": {
     "name": "#%% md\n"
    }
   },
   "source": [
    "Давайте посмотрим на наш датафрейм"
   ]
  },
  {
   "cell_type": "code",
   "execution_count": null,
   "id": "71cef5a4-fae9-4aa0-ad07-09b2568ec69e",
   "metadata": {
    "pycharm": {
     "name": "#%%\n"
    }
   },
   "outputs": [],
   "source": [
    "movies_df?"
   ]
  },
  {
   "cell_type": "code",
   "execution_count": null,
   "id": "42d43b29-eea3-4f4a-92ce-dcb16e3c017e",
   "metadata": {
    "pycharm": {
     "name": "#%%\n"
    }
   },
   "outputs": [],
   "source": [
    "movies_df.printSchema()"
   ]
  },
  {
   "cell_type": "markdown",
   "id": "d8fa8587-486f-42d2-8e87-351f2a01922b",
   "metadata": {
    "pycharm": {
     "name": "#%% md\n"
    }
   },
   "source": [
    "### Что значит `nullable`?"
   ]
  },
  {
   "cell_type": "code",
   "execution_count": null,
   "id": "5f2d6b2e-60e0-4c0e-923f-7dfa31ab4b9b",
   "metadata": {
    "pycharm": {
     "name": "#%%\n"
    },
    "tags": []
   },
   "outputs": [],
   "source": [
    "tiny_schema = StructType(fields=[\n",
    "    StructField(\"id\", IntegerType()),\n",
    "    StructField(\"value\", StringType(), nullable=False)\n",
    "])"
   ]
  },
  {
   "cell_type": "code",
   "execution_count": null,
   "id": "4a972b20-5389-4232-b10f-4ed063daa7fe",
   "metadata": {
    "pycharm": {
     "name": "#%%\n"
    },
    "tags": []
   },
   "outputs": [],
   "source": [
    "df = spark.createDataFrame([[1, None], [3, \"Hello\"]], schema=tiny_schema)"
   ]
  },
  {
   "cell_type": "code",
   "execution_count": null,
   "id": "00821dce-d2e1-4ee7-87f7-faaca7cdd1b0",
   "metadata": {
    "pycharm": {
     "name": "#%%\n"
    },
    "tags": []
   },
   "outputs": [],
   "source": [
    "tiny_schema = StructType(fields=[\n",
    "    StructField(\"id\", IntegerType()),\n",
    "    StructField(\"value\", StringType(), nullable=True)\n",
    "])"
   ]
  },
  {
   "cell_type": "code",
   "execution_count": null,
   "id": "664c68b8-6d7e-43d0-bcde-f6f63e03b159",
   "metadata": {
    "pycharm": {
     "name": "#%%\n"
    }
   },
   "outputs": [],
   "source": [
    "spark.createDataFrame?"
   ]
  },
  {
   "cell_type": "code",
   "execution_count": null,
   "id": "5dfd6853-9754-43a2-8281-cb4d6f649d97",
   "metadata": {
    "pycharm": {
     "name": "#%%\n"
    },
    "tags": []
   },
   "outputs": [],
   "source": [
    "df = spark.createDataFrame([[1, None], [3, \"Hello\"]], schema=tiny_schema)"
   ]
  },
  {
   "cell_type": "code",
   "execution_count": null,
   "id": "fb6815a7-082b-4361-8f9b-b1160ef6f442",
   "metadata": {
    "pycharm": {
     "name": "#%%\n"
    },
    "tags": []
   },
   "outputs": [],
   "source": [
    "df.printSchema()"
   ]
  },
  {
   "cell_type": "markdown",
   "id": "4d55ebea-57f7-4671-be83-a6856a367431",
   "metadata": {
    "pycharm": {
     "name": "#%% md\n"
    }
   },
   "source": [
    "### Для популярных источников есть удобные обертки"
   ]
  },
  {
   "cell_type": "code",
   "execution_count": null,
   "id": "8f5ed036-a249-422e-b902-52751cb10ed8",
   "metadata": {
    "pycharm": {
     "name": "#%%\n"
    }
   },
   "outputs": [],
   "source": [
    "movies_df = spark.read.csv(\"movielens/movies.csv\", header=True, inferSchema=True)"
   ]
  },
  {
   "cell_type": "code",
   "execution_count": null,
   "id": "85682392-e2a7-4c94-b4a7-07c74ec80898",
   "metadata": {
    "pycharm": {
     "name": "#%%\n"
    }
   },
   "outputs": [],
   "source": [
    "spark.read?"
   ]
  },
  {
   "cell_type": "code",
   "execution_count": null,
   "id": "69be50c4-dad2-4e07-889f-a07bf1d3528f",
   "metadata": {
    "pycharm": {
     "name": "#%%\n"
    }
   },
   "outputs": [],
   "source": [
    "movies_df.printSchema()"
   ]
  },
  {
   "cell_type": "code",
   "execution_count": null,
   "id": "d5f43a9a-d0ea-45ee-8768-b133f1cb1698",
   "metadata": {
    "pycharm": {
     "name": "#%%\n"
    }
   },
   "outputs": [],
   "source": [
    "movies_df.show(10)"
   ]
  },
  {
   "cell_type": "markdown",
   "id": "c17fa8d5-275d-4104-ae0d-206dca0e03e6",
   "metadata": {
    "pycharm": {
     "name": "#%% md\n"
    }
   },
   "source": [
    "### А самое классное, что через один API можно работать с множеством источников!\n",
    "+ CSV\n",
    "+ JSON\n",
    "+ Hive\n",
    "+ HBase\n",
    "+ Cassandra\n",
    "+ MySQL\n",
    "+ PostgreSQL\n",
    "+ Parquet\n",
    "+ ORC\n",
    "+ Kafka\n",
    "+ ElasticSearch\n",
    "+ Amazon S3\n",
    "+ ...and more through custom connectors"
   ]
  },
  {
   "cell_type": "markdown",
   "id": "875f60d9-8b5c-42ce-a6e5-8707a4bfecda",
   "metadata": {
    "pycharm": {
     "name": "#%% md\n"
    }
   },
   "source": [
    "### Создание DataFrame из RDD, pandas.DataFrame или списка"
   ]
  },
  {
   "cell_type": "code",
   "execution_count": null,
   "id": "c0de88bc-94ce-46dd-ab58-45657393a496",
   "metadata": {
    "pycharm": {
     "name": "#%%\n"
    }
   },
   "outputs": [],
   "source": [
    "rdd = spark.sparkContext.textFile(\"movielens/movies.csv\").map(lambda x: x.split(\",\"))"
   ]
  },
  {
   "cell_type": "code",
   "execution_count": null,
   "id": "44346ffa-03f7-44a4-9550-14b3fa0f94ef",
   "metadata": {
    "pycharm": {
     "name": "#%%\n"
    }
   },
   "outputs": [],
   "source": [
    "rdd.take(5)"
   ]
  },
  {
   "cell_type": "code",
   "execution_count": null,
   "id": "269723fb-4ae0-4432-a518-6a457b354492",
   "metadata": {
    "pycharm": {
     "name": "#%%\n"
    }
   },
   "outputs": [],
   "source": [
    "df = spark.createDataFrame(rdd)"
   ]
  },
  {
   "cell_type": "markdown",
   "id": "5bad9d8d-6c7b-48fe-9589-187603836c8d",
   "metadata": {
    "pycharm": {
     "name": "#%% md\n"
    }
   },
   "source": [
    "### RDD нетипизирован и никакой схемы не имеет"
   ]
  },
  {
   "cell_type": "code",
   "execution_count": null,
   "id": "ec164400-13f2-446e-90f8-088a119194c5",
   "metadata": {
    "pycharm": {
     "name": "#%%\n"
    }
   },
   "outputs": [],
   "source": [
    "df"
   ]
  },
  {
   "cell_type": "code",
   "execution_count": null,
   "id": "8755f517-8f30-4b25-a5ed-fdde0688b030",
   "metadata": {
    "pycharm": {
     "name": "#%%\n"
    }
   },
   "outputs": [],
   "source": [
    "df = spark.createDataFrame(rdd, schema=schema)"
   ]
  },
  {
   "cell_type": "code",
   "execution_count": null,
   "id": "fe8dc002-0e83-4caa-886f-eda1c985f1b9",
   "metadata": {
    "pycharm": {
     "name": "#%%\n"
    }
   },
   "outputs": [],
   "source": [
    "df"
   ]
  },
  {
   "cell_type": "code",
   "execution_count": null,
   "id": "d5514a95-a30e-4842-b113-7bb97b0424db",
   "metadata": {
    "pycharm": {
     "name": "#%%\n"
    },
    "scrolled": true
   },
   "outputs": [],
   "source": [
    "df.show(5)"
   ]
  },
  {
   "cell_type": "markdown",
   "id": "7b93d5a7-cc3e-4864-a5ab-4138bb156cf2",
   "metadata": {
    "pycharm": {
     "name": "#%% md\n"
    }
   },
   "source": [
    "### Может быть, если мы это проигнорируем, оно само уйдет?"
   ]
  },
  {
   "cell_type": "code",
   "execution_count": null,
   "id": "7bd0b44d-1c9e-4411-bc2f-633f6d154816",
   "metadata": {
    "pycharm": {
     "name": "#%%\n"
    }
   },
   "outputs": [],
   "source": [
    "df = spark.createDataFrame(rdd, schema=schema, verifySchema=False)"
   ]
  },
  {
   "cell_type": "code",
   "execution_count": null,
   "id": "916947f5-2916-44c6-b71f-47acd1ea9ae2",
   "metadata": {
    "pycharm": {
     "name": "#%%\n"
    }
   },
   "outputs": [],
   "source": [
    "df.show(5)"
   ]
  },
  {
   "cell_type": "markdown",
   "id": "e53b5733-827f-4d60-b692-2598d0a09e3f",
   "metadata": {
    "pycharm": {
     "name": "#%% md\n"
    }
   },
   "source": [
    "### %("
   ]
  },
  {
   "cell_type": "code",
   "execution_count": null,
   "id": "e9951995-15f3-4e16-a634-8f432da76c89",
   "metadata": {
    "pycharm": {
     "name": "#%%\n"
    }
   },
   "outputs": [],
   "source": [
    "clean_rdd = rdd.map(lambda x: (int(x[0]), x[1], x[2]))"
   ]
  },
  {
   "cell_type": "code",
   "execution_count": null,
   "id": "38f22249-2729-4a84-999f-f1c950a75d83",
   "metadata": {
    "pycharm": {
     "name": "#%%\n"
    },
    "scrolled": true
   },
   "outputs": [],
   "source": [
    "clean_rdd.take(5)"
   ]
  },
  {
   "cell_type": "markdown",
   "id": "f46b4427-0488-4792-a21b-9a626321594f",
   "metadata": {
    "pycharm": {
     "name": "#%% md\n"
    }
   },
   "source": [
    "### %("
   ]
  },
  {
   "cell_type": "code",
   "execution_count": null,
   "id": "eaab41ce-6246-4816-8dc3-65990aa7b126",
   "metadata": {
    "pycharm": {
     "name": "#%%\n"
    }
   },
   "outputs": [],
   "source": [
    "header = rdd.first()\n",
    "clean_rdd = rdd.filter(lambda x: x != header).map(lambda x: (int(x[0]), x[1], x[2]))"
   ]
  },
  {
   "cell_type": "code",
   "execution_count": null,
   "id": "d1ddac15-65ea-4d77-bf33-b16ddfb71c27",
   "metadata": {
    "pycharm": {
     "name": "#%%\n"
    }
   },
   "outputs": [],
   "source": [
    "df = spark.createDataFrame(clean_rdd, schema=schema)"
   ]
  },
  {
   "cell_type": "code",
   "execution_count": null,
   "id": "dfd0675b-c54a-4851-9ecd-fe2c3748836d",
   "metadata": {
    "pycharm": {
     "name": "#%%\n"
    }
   },
   "outputs": [],
   "source": [
    "clean_rdd.take(5)"
   ]
  },
  {
   "cell_type": "code",
   "execution_count": null,
   "id": "daffb48e-7c7d-4034-b9d5-f5d871575e2a",
   "metadata": {
    "pycharm": {
     "name": "#%%\n"
    }
   },
   "outputs": [],
   "source": [
    "df.show(5)"
   ]
  },
  {
   "cell_type": "markdown",
   "id": "adad2454-e289-4d71-a5f6-644f2ff4d74d",
   "metadata": {
    "pycharm": {
     "name": "#%% md\n"
    }
   },
   "source": [
    "### Работать будем со сгенерированным логом доступа"
   ]
  },
  {
   "cell_type": "code",
   "execution_count": null,
   "id": "939b2678-5254-48c9-bd22-45ef05284925",
   "metadata": {
    "pycharm": {
     "name": "#%%\n"
    },
    "scrolled": true
   },
   "outputs": [],
   "source": [
    "!tail logsM.txt"
   ]
  },
  {
   "cell_type": "code",
   "execution_count": null,
   "id": "4e8cf37a-3e9c-4801-845a-a4ae91828a45",
   "metadata": {
    "pycharm": {
     "name": "#%%\n"
    }
   },
   "outputs": [],
   "source": [
    "log_schema = StructType(fields=[\n",
    "    StructField(\"ip\", StringType()),\n",
    "    StructField(\"timestamp\", LongType()),\n",
    "    StructField(\"url\", StringType()),\n",
    "    StructField(\"size\", IntegerType()),\n",
    "    StructField(\"code\", IntegerType()),\n",
    "    StructField(\"ua\", StringType())\n",
    "])"
   ]
  },
  {
   "cell_type": "code",
   "execution_count": null,
   "id": "bf996b64-390a-4be1-b97e-572677d4d74f",
   "metadata": {
    "pycharm": {
     "name": "#%%\n"
    }
   },
   "outputs": [],
   "source": [
    "log = spark.read.csv(\"logsM.txt\", sep=\"\\t\", schema=log_schema)"
   ]
  },
  {
   "cell_type": "code",
   "execution_count": null,
   "id": "2964bea4-a542-4d39-aba8-c71996bcb492",
   "metadata": {
    "pycharm": {
     "name": "#%%\n"
    }
   },
   "outputs": [],
   "source": [
    "log"
   ]
  },
  {
   "cell_type": "code",
   "execution_count": null,
   "id": "0b6feff2-b5cf-4d0d-8038-0c7f3e16da1a",
   "metadata": {
    "pycharm": {
     "name": "#%%\n"
    }
   },
   "outputs": [],
   "source": [
    "log.rdd.getNumPartitions()"
   ]
  },
  {
   "cell_type": "code",
   "execution_count": null,
   "id": "85575127-3819-46c8-915c-42ee22456c5a",
   "metadata": {
    "pycharm": {
     "name": "#%%\n"
    }
   },
   "outputs": [],
   "source": [
    "log = log.repartition(4)"
   ]
  },
  {
   "cell_type": "code",
   "execution_count": null,
   "id": "0b56d302-df35-4e5e-a09f-5d7bf37412c1",
   "metadata": {
    "pycharm": {
     "name": "#%%\n"
    }
   },
   "outputs": [],
   "source": [
    "log.show(10)"
   ]
  },
  {
   "cell_type": "code",
   "execution_count": null,
   "id": "5a44af06-b654-4ef9-8a65-fd8c7a9d12d8",
   "metadata": {
    "pycharm": {
     "name": "#%%\n"
    }
   },
   "outputs": [],
   "source": [
    "log.show(5, truncate=False, vertical=True)"
   ]
  },
  {
   "cell_type": "markdown",
   "id": "60767818-5f82-43c0-a1cf-33cc75a22d85",
   "metadata": {
    "pycharm": {
     "name": "#%% md\n"
    }
   },
   "source": [
    "### Проекции и фильтры\n",
    "**Проекция** возвращает подмножество столбцов\n",
    "\n",
    "**Фильтр** возвращает подмножество строк"
   ]
  },
  {
   "cell_type": "code",
   "execution_count": null,
   "id": "ce028667-298e-46a1-90b8-d2711717319b",
   "metadata": {
    "pycharm": {
     "name": "#%%\n"
    }
   },
   "outputs": [],
   "source": [
    "log.select([\"ip\", \"timestamp\", \"url\"])"
   ]
  },
  {
   "cell_type": "code",
   "execution_count": null,
   "id": "d2413c36-5895-409e-9cdc-0ad9b842e259",
   "metadata": {
    "pycharm": {
     "name": "#%%\n"
    }
   },
   "outputs": [],
   "source": [
    "log.select(\"ip\", \"code\").show(5)"
   ]
  },
  {
   "cell_type": "code",
   "execution_count": null,
   "id": "34c1abac-9d8e-42a4-b134-20001e5b2dc9",
   "metadata": {
    "pycharm": {
     "name": "#%%\n"
    }
   },
   "outputs": [],
   "source": [
    "log.select(log.ip, log.code).show(5)"
   ]
  },
  {
   "cell_type": "code",
   "execution_count": null,
   "id": "40fc37e0-4be6-462b-9f5d-57422989483e",
   "metadata": {
    "pycharm": {
     "name": "#%%\n"
    }
   },
   "outputs": [],
   "source": [
    "log.ip"
   ]
  },
  {
   "cell_type": "markdown",
   "id": "519a4aaa-af49-4a8c-a10b-6240dc7457f2",
   "metadata": {
    "pycharm": {
     "name": "#%% md\n"
    }
   },
   "source": [
    "### Зачем нужны столбцы-объекты? Потому что у них есть методы!"
   ]
  },
  {
   "cell_type": "code",
   "execution_count": null,
   "id": "8633ef0e-64c2-438a-a59b-5be7565bdba5",
   "metadata": {
    "pycharm": {
     "name": "#%%\n"
    }
   },
   "outputs": [],
   "source": [
    "log.select(log.ip,\n",
    "           log.code.alias(\"response\")).show(5)"
   ]
  },
  {
   "cell_type": "code",
   "execution_count": null,
   "id": "f779616a-c69d-4ff0-8eaf-b4531503b02f",
   "metadata": {
    "pycharm": {
     "name": "#%%\n"
    }
   },
   "outputs": [],
   "source": [
    "import pyspark.sql.functions as f"
   ]
  },
  {
   "cell_type": "code",
   "execution_count": null,
   "id": "c73628c8-c1d5-4184-82fe-66c08be16456",
   "metadata": {
    "pycharm": {
     "name": "#%%\n"
    }
   },
   "outputs": [],
   "source": [
    "log.select(\"ip\", \n",
    "           f.col(\"code\").alias(\"response\")).show(5)"
   ]
  },
  {
   "cell_type": "markdown",
   "id": "7c153d51-e67f-4ac4-9f00-f8ffe2550385",
   "metadata": {
    "pycharm": {
     "name": "#%% md\n"
    }
   },
   "source": [
    "### Pandas-like"
   ]
  },
  {
   "cell_type": "code",
   "execution_count": null,
   "id": "0dd4e45a-adf0-4808-befa-115891162d92",
   "metadata": {
    "pycharm": {
     "name": "#%%\n"
    }
   },
   "outputs": [],
   "source": [
    "log[[\"ip\", \"code\"]].show(5)"
   ]
  },
  {
   "cell_type": "code",
   "execution_count": null,
   "id": "c445ce33-2ebb-4fa9-b4ba-4e1740dee3fc",
   "metadata": {
    "pycharm": {
     "name": "#%%\n"
    }
   },
   "outputs": [],
   "source": [
    "log[[log.ip, log.code.alias(\"response\")]].show(5)"
   ]
  },
  {
   "cell_type": "markdown",
   "id": "243f1ff5-3696-4b9f-8288-dba6a444dece",
   "metadata": {
    "pycharm": {
     "name": "#%% md\n"
    }
   },
   "source": [
    "### Фильтрация"
   ]
  },
  {
   "cell_type": "code",
   "execution_count": null,
   "id": "3a5308ef-a092-4c8a-a1b1-727c82ee2c89",
   "metadata": {
    "pycharm": {
     "name": "#%%\n"
    }
   },
   "outputs": [],
   "source": [
    "log.where(\"code = 200\").show(5)"
   ]
  },
  {
   "cell_type": "code",
   "execution_count": null,
   "id": "0dc49e57-4a4b-44f1-a2e0-a0758fd0b3b2",
   "metadata": {
    "pycharm": {
     "name": "#%%\n"
    }
   },
   "outputs": [],
   "source": [
    "log.filter(log.code == 200).show(5, truncate=False)"
   ]
  },
  {
   "cell_type": "code",
   "execution_count": null,
   "id": "46c89db5-9372-496a-9edb-16b813d51a57",
   "metadata": {
    "pycharm": {
     "name": "#%%\n"
    }
   },
   "outputs": [],
   "source": [
    "log.filter(\"code == 200 AND url LIKE '%ozon%'\").show(5, truncate=False, vertical=True)"
   ]
  },
  {
   "cell_type": "code",
   "execution_count": null,
   "id": "3eb3eb73-2ac8-46e8-884e-109ccc5ffa7b",
   "metadata": {
    "pycharm": {
     "name": "#%%\n"
    }
   },
   "outputs": [],
   "source": [
    "log.filter((log.code.isin([200, 404])) & (log.url.like(\"%ozon%\"))).show(5)"
   ]
  },
  {
   "cell_type": "code",
   "execution_count": null,
   "id": "85cdff97-9501-486f-9d4f-a3074844e81f",
   "metadata": {
    "pycharm": {
     "name": "#%%\n"
    }
   },
   "outputs": [],
   "source": [
    "log.code?"
   ]
  },
  {
   "cell_type": "markdown",
   "id": "0916372f-01bc-4cc2-972a-8378fb6fbedb",
   "metadata": {
    "pycharm": {
     "name": "#%% md\n"
    }
   },
   "source": [
    "### Pandas"
   ]
  },
  {
   "cell_type": "code",
   "execution_count": null,
   "id": "7109c2db-c19f-444e-a07f-f61cfdecfd67",
   "metadata": {
    "pycharm": {
     "name": "#%%\n"
    }
   },
   "outputs": [],
   "source": [
    "log[(log.code == 200) & (log.url.like(\"%ozon%\"))].show(5)"
   ]
  },
  {
   "cell_type": "markdown",
   "id": "3af3c34b-450b-4538-a791-43e014a449f2",
   "metadata": {
    "pycharm": {
     "name": "#%% md\n"
    }
   },
   "source": [
    "### И все вместе"
   ]
  },
  {
   "cell_type": "code",
   "execution_count": null,
   "id": "09705e2d-61aa-48b6-aa20-f07656570ba1",
   "metadata": {
    "pycharm": {
     "name": "#%%\n"
    }
   },
   "outputs": [],
   "source": [
    "log[(log.code == 200) & (log.url.like(\"%ozon%\"))][[\"ip\", \"code\"]].show(5)"
   ]
  },
  {
   "cell_type": "markdown",
   "id": "5e500b98-ba24-4126-8e23-755822b4a16f",
   "metadata": {
    "pycharm": {
     "name": "#%% md\n"
    }
   },
   "source": [
    "### А SQL-то можно писать?"
   ]
  },
  {
   "cell_type": "code",
   "execution_count": null,
   "id": "c6f5b2ff-99c8-4fec-816a-00fd5a45ef73",
   "metadata": {
    "pycharm": {
     "name": "#%%\n"
    }
   },
   "outputs": [],
   "source": [
    "query = \"\"\"\n",
    "SELECT ip, code FROM log_table \n",
    "WHERE code == 200 AND url LIKE '%ozon%'\n",
    "\"\"\""
   ]
  },
  {
   "cell_type": "code",
   "execution_count": null,
   "id": "8659937b-4ae0-4b15-a7f3-70880185ba1e",
   "metadata": {
    "pycharm": {
     "name": "#%%\n"
    }
   },
   "outputs": [],
   "source": [
    "spark.sql(query).show(5)"
   ]
  },
  {
   "cell_type": "markdown",
   "id": "bbb7c3a2-ad04-4ad3-a11c-85a3d42b4cb6",
   "metadata": {
    "pycharm": {
     "name": "#%% md\n"
    }
   },
   "source": [
    "#### Нужно зарегистрировать `DataFrame` как таблицу во внутреннем каталоге Spark SQL"
   ]
  },
  {
   "cell_type": "code",
   "execution_count": null,
   "id": "05a9f64d-db32-4365-bb06-419616d38e90",
   "metadata": {
    "pycharm": {
     "name": "#%%\n"
    }
   },
   "outputs": [],
   "source": [
    "log.createOrReplaceTempView(\"log_table\")"
   ]
  },
  {
   "cell_type": "code",
   "execution_count": null,
   "id": "4c9bd6ea-e2d2-4009-aeeb-0df272a4fc85",
   "metadata": {
    "pycharm": {
     "name": "#%%\n"
    }
   },
   "outputs": [],
   "source": [
    "spark.catalog.listTables()"
   ]
  },
  {
   "cell_type": "code",
   "execution_count": null,
   "id": "642ceee9-babb-4ba4-834c-8d980b5f5cac",
   "metadata": {
    "pycharm": {
     "name": "#%%\n"
    }
   },
   "outputs": [],
   "source": [
    "spark.sql(query).show(5)"
   ]
  },
  {
   "cell_type": "markdown",
   "id": "b1baa570-c6aa-4601-b887-6594f6d4edcf",
   "metadata": {
    "pycharm": {
     "name": "#%% md\n"
    }
   },
   "source": [
    "### Функции\n",
    "Не все вычисления можно реализовать стандартным SQL. Здесь на помощь приходят функции (встроенные или пользовательские). Встроенные функции находятся в модуле [`pyspark.sql.functions`](https://spark.apache.org/docs/2.4.7/api/python/pyspark.sql.html#module-pyspark.sql.functions) "
   ]
  },
  {
   "cell_type": "code",
   "execution_count": null,
   "id": "b09530f3-40ce-403f-a34e-e7a731fc32a0",
   "metadata": {
    "pycharm": {
     "name": "#%%\n"
    }
   },
   "outputs": [],
   "source": [
    "log.select(\"ua\", f.length(\"ua\")).show(5)"
   ]
  },
  {
   "cell_type": "markdown",
   "id": "a3afbc4f-3ce4-4c84-adc8-74e9a93a60de",
   "metadata": {
    "pycharm": {
     "name": "#%% md\n"
    }
   },
   "source": [
    "#### Функции возвращают объект типа `Column`"
   ]
  },
  {
   "cell_type": "code",
   "execution_count": null,
   "id": "87eacc85-34fe-4f8e-99a9-36bf996b5054",
   "metadata": {
    "pycharm": {
     "name": "#%%\n"
    }
   },
   "outputs": [],
   "source": [
    "f.length(\"ua\")"
   ]
  },
  {
   "cell_type": "code",
   "execution_count": null,
   "id": "2c37b6eb-4cba-47b4-9e40-a857be914fd2",
   "metadata": {
    "pycharm": {
     "name": "#%%\n"
    }
   },
   "outputs": [],
   "source": [
    "log.select(\"ua\", f.length(\"ua\").alias(\"length\")).show(5)"
   ]
  },
  {
   "cell_type": "markdown",
   "id": "a4a16354-b065-4ac6-a384-849a3024b265",
   "metadata": {
    "pycharm": {
     "name": "#%% md\n"
    }
   },
   "source": [
    "### Довольно часто возникает ошибка с неверными именами столбцов"
   ]
  },
  {
   "cell_type": "code",
   "execution_count": null,
   "id": "3d167bf3-5af2-4202-a5f8-9afa11262170",
   "metadata": {
    "pycharm": {
     "name": "#%%\n"
    }
   },
   "outputs": [],
   "source": [
    "log.select(f.concat(\"url\", \"?utm_medium=email\")).show(5)"
   ]
  },
  {
   "cell_type": "markdown",
   "id": "5af46982-2885-43df-8fc7-5275d5323a13",
   "metadata": {
    "pycharm": {
     "name": "#%% md\n"
    }
   },
   "source": [
    "### Нужно убедиться в правильности имени или типа"
   ]
  },
  {
   "cell_type": "code",
   "execution_count": null,
   "id": "a34c962c-a192-496f-bedb-cb24b4e95fa4",
   "metadata": {
    "pycharm": {
     "name": "#%%\n"
    }
   },
   "outputs": [],
   "source": [
    "log.select(f.concat(\"url\", f.lit(\"?utm_medium=email\")).alias(\"newurl\")).show(5, False)"
   ]
  },
  {
   "cell_type": "markdown",
   "id": "68f63610-f82e-4af7-aa72-3bd7368d0514",
   "metadata": {
    "pycharm": {
     "name": "#%% md\n"
    }
   },
   "source": [
    "### Посчитаем word count\n"
   ]
  },
  {
   "cell_type": "code",
   "execution_count": null,
   "id": "cfb5e9d1-e237-4aa7-a359-da7652e3ee79",
   "metadata": {
    "pycharm": {
     "name": "#%%\n"
    }
   },
   "outputs": [],
   "source": [
    "log.select(\"ua\", f.split(\"ua\", \" \").alias(\"word_list\")).show(5, False, True)"
   ]
  },
  {
   "cell_type": "markdown",
   "id": "4fc4a773-8611-41a5-b666-cd34b2b5d011",
   "metadata": {
    "pycharm": {
     "name": "#%% md\n"
    }
   },
   "source": [
    "### Прелесть ленивых вычислений и строгой типизации"
   ]
  },
  {
   "cell_type": "code",
   "execution_count": null,
   "id": "07dae724-346b-4ed8-b1ae-2b5b856bd2da",
   "metadata": {
    "pycharm": {
     "name": "#%%\n"
    }
   },
   "outputs": [],
   "source": [
    "log.select(\"ua\", f.split(\"ua\", \" \").alias(\"word_list\")).printSchema()"
   ]
  },
  {
   "cell_type": "markdown",
   "id": "b9597e12-4c4f-4c86-9c0c-0a2ae24d6d0d",
   "metadata": {
    "pycharm": {
     "name": "#%% md\n"
    }
   },
   "source": [
    "### К элементам сложных типов можно получить доступ"
   ]
  },
  {
   "cell_type": "code",
   "execution_count": null,
   "id": "57fe42d6-50d2-473b-a7a2-beb582a81aac",
   "metadata": {
    "pycharm": {
     "name": "#%%\n"
    }
   },
   "outputs": [],
   "source": [
    "log.select(\"ua\", f.split(\"ua\", \" \").alias(\"word_list\"))\\\n",
    "   .select(f.col(\"word_list\")[0].alias(\"first_word\"), f.col(\"word_list\")[1].alias(\"second_word\"))\\\n",
    "   .show(5)"
   ]
  },
  {
   "cell_type": "code",
   "execution_count": null,
   "id": "55a919a2-66a4-4638-9125-231001458058",
   "metadata": {
    "pycharm": {
     "name": "#%%\n"
    }
   },
   "outputs": [],
   "source": [
    "f.explode?"
   ]
  },
  {
   "cell_type": "code",
   "execution_count": null,
   "id": "c717b536-c2dc-4d92-8efc-10c9a4521142",
   "metadata": {
    "pycharm": {
     "name": "#%%\n"
    }
   },
   "outputs": [],
   "source": [
    "log.select(\"ua\", f.split(\"ua\", \" \").alias(\"word_list\"))\\\n",
    "   .select(f.explode(\"word_list\").alias(\"word\")).show()"
   ]
  },
  {
   "cell_type": "code",
   "execution_count": null,
   "id": "226d0e8d-76ac-4e31-a0ff-2b56d4aa480d",
   "metadata": {
    "pycharm": {
     "name": "#%%\n"
    }
   },
   "outputs": [],
   "source": [
    "log.select(\"ua\", f.split(\"ua\", \" \").alias(\"word_list\"))\\\n",
    "   .select(f.explode(\"word_list\").alias(\"word\"))\\\n",
    "   .groupby(\"word\").count()\\\n",
    "   .orderBy(\"count\", ascending=False)\\\n",
    "   .show(5)"
   ]
  },
  {
   "cell_type": "markdown",
   "id": "d88cda20-583d-4efe-a040-cf94cc82be22",
   "metadata": {
    "pycharm": {
     "name": "#%% md\n"
    }
   },
   "source": [
    "### Самое время посмотреть в Spark UI!"
   ]
  },
  {
   "cell_type": "markdown",
   "id": "7c628454-0545-4382-8f39-ce0fbff01302",
   "metadata": {
    "pycharm": {
     "name": "#%% md\n"
    }
   },
   "source": [
    "### Joins"
   ]
  },
  {
   "cell_type": "code",
   "execution_count": null,
   "id": "30f8f2c7-cd35-4925-b197-3ce63506a935",
   "metadata": {
    "pycharm": {
     "name": "#%%\n"
    }
   },
   "outputs": [],
   "source": [
    "!tail ipDataM.txt"
   ]
  },
  {
   "cell_type": "code",
   "execution_count": null,
   "id": "8eacbe4e-bdad-4167-be6f-8d55fa431513",
   "metadata": {
    "pycharm": {
     "name": "#%%\n"
    }
   },
   "outputs": [],
   "source": [
    "ip_schema = StructType(fields=[\n",
    "    StructField(\"ip\", StringType()),\n",
    "    StructField(\"region\", StringType())\n",
    "])"
   ]
  },
  {
   "cell_type": "code",
   "execution_count": null,
   "id": "69ca3551-1847-4312-9d33-2d39dbfc451a",
   "metadata": {
    "pycharm": {
     "name": "#%%\n"
    }
   },
   "outputs": [],
   "source": [
    "ips = spark.read.csv(\"ipDataM.txt\", schema=ip_schema, sep=\"\\t\").cache()"
   ]
  },
  {
   "cell_type": "code",
   "execution_count": null,
   "id": "8c57ee18-e45a-461f-a7e5-92460e3b1f3a",
   "metadata": {
    "pycharm": {
     "name": "#%%\n"
    }
   },
   "outputs": [],
   "source": [
    "ips.show(5)"
   ]
  },
  {
   "cell_type": "code",
   "execution_count": null,
   "id": "3b1b017d-8622-4f4a-947d-a93004a28902",
   "metadata": {
    "pycharm": {
     "name": "#%%\n"
    }
   },
   "outputs": [],
   "source": [
    "log.show(5)"
   ]
  },
  {
   "cell_type": "markdown",
   "id": "ed72a8bb-fbc9-4c35-8ee1-2e318dab1c31",
   "metadata": {
    "pycharm": {
     "name": "#%% md\n"
    }
   },
   "source": [
    "#### Трюк для отключения автоматической оптимизации"
   ]
  },
  {
   "cell_type": "code",
   "execution_count": null,
   "id": "65a8e78e-dd9f-489c-b878-213b08b5e30d",
   "metadata": {
    "pycharm": {
     "name": "#%%\n"
    }
   },
   "outputs": [],
   "source": [
    "spark.sql(\"SET spark.sql.autoBroadcastJoinThreshold = 100500\")"
   ]
  },
  {
   "cell_type": "code",
   "execution_count": null,
   "id": "c206f81f-7745-49cf-bc33-a1d456a34134",
   "metadata": {
    "pycharm": {
     "name": "#%%\n"
    }
   },
   "outputs": [],
   "source": [
    "log_with_regions = log.join(ips, on=\"ip\", how=\"inner\")"
   ]
  },
  {
   "cell_type": "code",
   "execution_count": null,
   "id": "7c6f3475-ea00-405f-b825-a15b43a9b356",
   "metadata": {
    "pycharm": {
     "name": "#%%\n"
    }
   },
   "outputs": [],
   "source": [
    "log_with_regions"
   ]
  },
  {
   "cell_type": "code",
   "execution_count": null,
   "id": "cb53e9a2-ea57-434f-b88c-45e2dddaf36a",
   "metadata": {
    "pycharm": {
     "name": "#%%\n"
    }
   },
   "outputs": [],
   "source": [
    "log_with_regions.show(5)"
   ]
  },
  {
   "cell_type": "code",
   "execution_count": null,
   "id": "e5b291e2-9707-448c-90cc-aef5e3edaaff",
   "metadata": {
    "pycharm": {
     "name": "#%%\n"
    }
   },
   "outputs": [],
   "source": [
    "log.explain(extended=True)"
   ]
  },
  {
   "cell_type": "code",
   "execution_count": null,
   "id": "35813b17-180e-4cec-a802-90322727b465",
   "metadata": {
    "pycharm": {
     "name": "#%%\n"
    }
   },
   "outputs": [],
   "source": [
    "log_with_regions.explain(True)"
   ]
  },
  {
   "cell_type": "markdown",
   "id": "9b01e52e-0ecf-44bc-8e22-f7fe96908080",
   "metadata": {
    "pycharm": {
     "name": "#%% md\n"
    }
   },
   "source": [
    "#### Можно делать не только equi-join, но и по произвольному выражению"
   ]
  },
  {
   "cell_type": "code",
   "execution_count": null,
   "id": "4b3f857b-9c99-4b11-ac7b-c2c3b281d06c",
   "metadata": {
    "pycharm": {
     "name": "#%%\n"
    }
   },
   "outputs": [],
   "source": [
    "ips_with_ts = ips.withColumn(\"timestamp\", f.lit(20220901000000).cast(\"bigint\"))"
   ]
  },
  {
   "cell_type": "code",
   "execution_count": null,
   "id": "ae353903-5f1d-4197-a88f-cf9600eb7152",
   "metadata": {
    "pycharm": {
     "name": "#%%\n"
    }
   },
   "outputs": [],
   "source": [
    "ips_with_ts.show(5)"
   ]
  },
  {
   "cell_type": "code",
   "execution_count": null,
   "id": "77ed3c15-bf45-4fa9-a035-bbce84a77516",
   "metadata": {
    "pycharm": {
     "name": "#%%\n"
    }
   },
   "outputs": [],
   "source": [
    "log.join(ips_with_ts, on=((log.ip == ips_with_ts.ip) & (log.timestamp > ips_with_ts.timestamp))).count()"
   ]
  },
  {
   "cell_type": "code",
   "execution_count": null,
   "id": "a57f7e3d-d568-48b4-a8aa-04801b7c3d67",
   "metadata": {
    "pycharm": {
     "name": "#%%\n"
    }
   },
   "outputs": [],
   "source": [
    "log_with_regions.count()"
   ]
  },
  {
   "cell_type": "markdown",
   "id": "6219df16-8a20-4ebb-96fa-748eed44a3b7",
   "metadata": {
    "pycharm": {
     "name": "#%% md\n"
    }
   },
   "source": [
    "#### А что там с партициями?"
   ]
  },
  {
   "cell_type": "code",
   "execution_count": null,
   "id": "c217a80a-bd97-4aaa-a4d0-bbe88d7d207c",
   "metadata": {
    "pycharm": {
     "name": "#%%\n"
    }
   },
   "outputs": [],
   "source": [
    "(log.rdd.getNumPartitions(),\n",
    " ips.rdd.getNumPartitions(),\n",
    " log_with_regions.rdd.getNumPartitions())"
   ]
  },
  {
   "cell_type": "code",
   "execution_count": null,
   "id": "f03e7a4e-3638-4387-adb9-d16083bee9c8",
   "metadata": {
    "pycharm": {
     "name": "#%%\n"
    }
   },
   "outputs": [],
   "source": [
    "spark.conf.get(\"spark.sql.shuffle.partitions\")"
   ]
  },
  {
   "cell_type": "code",
   "execution_count": null,
   "id": "a9ae1285-f53d-4196-bb55-6b7c9c9b4d08",
   "metadata": {
    "pycharm": {
     "name": "#%%\n"
    }
   },
   "outputs": [],
   "source": [
    "log_with_regions = log_with_regions.coalesce(2).cache()"
   ]
  },
  {
   "cell_type": "markdown",
   "id": "c089dfc7-3971-4b97-9893-189bc27408f7",
   "metadata": {
    "pycharm": {
     "name": "#%% md\n"
    }
   },
   "source": [
    "#### По-умолчанию Spark SQL использует алгоритм SortMergeJoin"
   ]
  },
  {
   "cell_type": "code",
   "execution_count": null,
   "id": "44099bef-0f55-4ec2-8f5d-2af93621f452",
   "metadata": {
    "pycharm": {
     "name": "#%%\n"
    }
   },
   "outputs": [],
   "source": [
    "log_with_regions.explain(extended=True)"
   ]
  },
  {
   "cell_type": "markdown",
   "id": "8a85967d-6155-4511-9d8a-26589cf909c3",
   "metadata": {
    "pycharm": {
     "name": "#%% md\n"
    }
   },
   "source": [
    "#### Если одна из таблиц мала, то можно реализовать map-side join через broadcast"
   ]
  },
  {
   "cell_type": "code",
   "execution_count": null,
   "id": "576fd241-c69d-4d8b-b3a0-68548d57fd86",
   "metadata": {
    "pycharm": {
     "name": "#%%\n"
    }
   },
   "outputs": [],
   "source": [
    "log_with_regions = log.join(f.broadcast(ips), on=\"ip\", how=\"inner\")"
   ]
  },
  {
   "cell_type": "code",
   "execution_count": null,
   "id": "d1f00ec2-db9b-4976-88a9-c9c38765140d",
   "metadata": {
    "pycharm": {
     "name": "#%%\n"
    }
   },
   "outputs": [],
   "source": [
    "log_with_regions.explain(extended=True)"
   ]
  },
  {
   "cell_type": "markdown",
   "id": "356b9af8-bfc9-4985-8007-f26d3ea8e9dc",
   "metadata": {
    "pycharm": {
     "name": "#%% md\n"
    }
   },
   "source": [
    "### Аггрегация\n",
    "```python\n",
    "df.groupBy(*cols)\\\n",
    "  .agg(*expressions)\n",
    "```"
   ]
  },
  {
   "cell_type": "code",
   "execution_count": null,
   "id": "8b472713-f25e-4244-bbd9-d51498bb433c",
   "metadata": {
    "pycharm": {
     "name": "#%%\n"
    }
   },
   "outputs": [],
   "source": [
    "log_with_regions.groupBy(\"region\")\\\n",
    "                .agg(f.count(\"ip\").alias(\"count\"))\\\n",
    "                .orderBy(\"count\", ascending=False)\\\n",
    "                .show(10)"
   ]
  },
  {
   "cell_type": "code",
   "execution_count": null,
   "id": "715f0147-fe6a-46d3-8422-ae6bb2bd6323",
   "metadata": {
    "pycharm": {
     "name": "#%%\n"
    }
   },
   "outputs": [],
   "source": [
    "log_with_regions.groupBy(\"region\")\\\n",
    "                .count()\\\n",
    "                .withColumnRenamed(\"count\", \"row_count\")\\\n",
    "                .orderBy(\"row_count\", ascending=False)\\\n",
    "                .show(10)"
   ]
  },
  {
   "cell_type": "code",
   "execution_count": null,
   "id": "56cd4a92-4198-4e60-9d47-e6553d3cdfcf",
   "metadata": {
    "pycharm": {
     "name": "#%%\n"
    }
   },
   "outputs": [],
   "source": [
    "!pip install pandas"
   ]
  },
  {
   "cell_type": "code",
   "execution_count": null,
   "id": "9255810f-f470-4692-a7f0-84a9041cb6f2",
   "metadata": {
    "pycharm": {
     "name": "#%%\n"
    }
   },
   "outputs": [],
   "source": [
    "length_stat = log_with_regions.groupBy(f.length(\"url\").alias(\"url_length\"))\\\n",
    "                              .agg(f.count(\"*\").alias(\"row_count\"))\\\n",
    "                              .orderBy(\"row_count\", ascending=False)\\\n",
    "                              .toPandas()"
   ]
  },
  {
   "cell_type": "code",
   "execution_count": null,
   "id": "1a53722e-c2f3-4374-9e24-fe218006fa8e",
   "metadata": {
    "pycharm": {
     "name": "#%%\n"
    }
   },
   "outputs": [],
   "source": [
    "length_stat"
   ]
  },
  {
   "cell_type": "markdown",
   "id": "4f672893-393c-40b2-8420-3ff6cad43da8",
   "metadata": {
    "pycharm": {
     "name": "#%% md\n"
    }
   },
   "source": [
    "### UDF (пользовательские функции)\n",
    "Тип функции UDF может быть одним из следующих:\n",
    "SCALAR. Скалярная UDF: один или несколько pandas.Series -> A pandas.Series. Скалярные UDF используются с pyspark.sql.DataFrame.withColumn() и pyspark.sql.DataFrame.select()\n",
    "GROUPED_MAP. Группированная UDF: A pandas.DataFrame -> A pandas.DataFrame. Группированные UDF используются с pyspark.sql.GroupedData.apply()"
   ]
  },
  {
   "cell_type": "code",
   "execution_count": null,
   "id": "c0fd627a-4414-4236-917b-0e6d0e271c5d",
   "metadata": {
    "pycharm": {
     "name": "#%%\n"
    }
   },
   "outputs": [],
   "source": [
    "@f.pandas_udf(StringType())\n",
    "def encode_http_status(codes):\n",
    "    mapping = {\n",
    "        1: \"info\",\n",
    "        2: \"success\",\n",
    "        3: \"redirect\",\n",
    "        4: \"client error\",\n",
    "        5: \"server error\"\n",
    "    }\n",
    "    return (codes // 100).replace(mapping)"
   ]
  },
  {
   "cell_type": "code",
   "execution_count": null,
   "id": "39ab4e19-ff05-4fd6-956e-9d572bba14ee",
   "metadata": {
    "pycharm": {
     "name": "#%%\n"
    }
   },
   "outputs": [],
   "source": [
    "log.withColumn(\"http_status\", encode_http_status(\"code\"))\\\n",
    "   .groupBy(\"http_status\").count().show()"
   ]
  },
  {
   "cell_type": "code",
   "execution_count": null,
   "id": "5476eb5d-15a8-4407-8890-5ef0d56bb75e",
   "metadata": {
    "pycharm": {
     "name": "#%%\n"
    }
   },
   "outputs": [],
   "source": [
    "log_filtered = log.filter(\"size > 400\").select(\"ip\", \"size\", \"code\").cache()"
   ]
  },
  {
   "cell_type": "code",
   "execution_count": null,
   "id": "c5949868-daca-47e9-b671-718baf047cf9",
   "metadata": {
    "pycharm": {
     "name": "#%%\n"
    }
   },
   "outputs": [],
   "source": [
    "log_filtered"
   ]
  },
  {
   "cell_type": "code",
   "execution_count": null,
   "id": "d52fccf8-ed2e-4167-aa67-92caf1464a69",
   "metadata": {
    "pycharm": {
     "name": "#%%\n"
    }
   },
   "outputs": [],
   "source": [
    "log_filtered.show()"
   ]
  },
  {
   "cell_type": "code",
   "execution_count": null,
   "id": "f9939627-ad8e-433b-9119-f3be37afad69",
   "metadata": {
    "pycharm": {
     "name": "#%%\n"
    }
   },
   "outputs": [],
   "source": [
    "log_filtered.count()"
   ]
  },
  {
   "cell_type": "code",
   "execution_count": null,
   "id": "f653f620-b5b6-47b8-a677-a1b54b89af2c",
   "metadata": {
    "pycharm": {
     "name": "#%%\n"
    }
   },
   "outputs": [],
   "source": [
    "log_filtered.rdd.getNumPartitions()"
   ]
  },
  {
   "cell_type": "markdown",
   "id": "b0c197bf-ada2-434c-a3d9-3c143f28a127",
   "metadata": {
    "pycharm": {
     "name": "#%% md\n"
    }
   },
   "source": [
    "## Прибираемся!"
   ]
  },
  {
   "cell_type": "code",
   "execution_count": null,
   "id": "291c08bc-5230-4cb5-8f21-dc7217fc3e04",
   "metadata": {
    "pycharm": {
     "name": "#%%\n"
    }
   },
   "outputs": [],
   "source": [
    "spark.stop()"
   ]
  },
  {
   "cell_type": "code",
   "execution_count": null,
   "id": "f491dff2-b274-4ba5-8397-802a141da007",
   "metadata": {
    "pycharm": {
     "name": "#%%\n"
    }
   },
   "outputs": [],
   "source": []
  }
 ],
 "metadata": {
  "kernelspec": {
   "display_name": "Python 3 (ipykernel)",
   "language": "python",
   "name": "python3"
  },
  "language_info": {
   "codemirror_mode": {
    "name": "ipython",
    "version": 3
   },
   "file_extension": ".py",
   "mimetype": "text/x-python",
   "name": "python",
   "nbconvert_exporter": "python",
   "pygments_lexer": "ipython3",
   "version": "3.12.3"
  }
 },
 "nbformat": 4,
 "nbformat_minor": 5
}